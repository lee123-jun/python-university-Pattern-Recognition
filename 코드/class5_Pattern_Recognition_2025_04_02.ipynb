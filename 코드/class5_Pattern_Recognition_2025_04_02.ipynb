{
  "cells": [
    {
      "cell_type": "code",
      "execution_count": null,
      "metadata": {
        "colab": {
          "base_uri": "https://localhost:8080/"
        },
        "id": "o2GfmIuZrIqV",
        "outputId": "ca8382ab-c2d6-430f-b8c4-ed05bfaece02"
      },
      "outputs": [
        {
          "name": "stdout",
          "output_type": "stream",
          "text": [
            "Downloading data from https://storage.googleapis.com/tensorflow/tf-keras-datasets/mnist.npz\n",
            "\u001b[1m11490434/11490434\u001b[0m \u001b[32m━━━━━━━━━━━━━━━━━━━━\u001b[0m\u001b[37m\u001b[0m \u001b[1m1s\u001b[0m 0us/step\n"
          ]
        },
        {
          "name": "stderr",
          "output_type": "stream",
          "text": [
            "/usr/local/lib/python3.11/dist-packages/keras/src/layers/convolutional/base_conv.py:107: UserWarning: Do not pass an `input_shape`/`input_dim` argument to a layer. When using Sequential models, prefer using an `Input(shape)` object as the first layer in the model instead.\n",
            "  super().__init__(activity_regularizer=activity_regularizer, **kwargs)\n"
          ]
        },
        {
          "name": "stdout",
          "output_type": "stream",
          "text": [
            "Epoch 1/15\n",
            "469/469 - 33s - 70ms/step - accuracy: 0.4942 - loss: 1.4969 - val_accuracy: 0.8835 - val_loss: 0.4455\n",
            "Epoch 2/15\n",
            "469/469 - 31s - 66ms/step - accuracy: 0.9170 - loss: 0.2968 - val_accuracy: 0.9430 - val_loss: 0.1877\n",
            "Epoch 3/15\n",
            "469/469 - 41s - 87ms/step - accuracy: 0.9537 - loss: 0.1576 - val_accuracy: 0.9667 - val_loss: 0.1134\n",
            "Epoch 4/15\n",
            "469/469 - 41s - 87ms/step - accuracy: 0.9679 - loss: 0.1081 - val_accuracy: 0.9744 - val_loss: 0.0843\n",
            "Epoch 5/15\n",
            "469/469 - 42s - 90ms/step - accuracy: 0.9748 - loss: 0.0851 - val_accuracy: 0.9799 - val_loss: 0.0701\n",
            "Epoch 6/15\n",
            "469/469 - 32s - 68ms/step - accuracy: 0.9786 - loss: 0.0713 - val_accuracy: 0.9818 - val_loss: 0.0615\n",
            "Epoch 7/15\n",
            "469/469 - 40s - 85ms/step - accuracy: 0.9817 - loss: 0.0629 - val_accuracy: 0.9824 - val_loss: 0.0548\n",
            "Epoch 8/15\n",
            "469/469 - 41s - 87ms/step - accuracy: 0.9842 - loss: 0.0542 - val_accuracy: 0.9827 - val_loss: 0.0536\n",
            "Epoch 9/15\n",
            "469/469 - 40s - 85ms/step - accuracy: 0.9857 - loss: 0.0486 - val_accuracy: 0.9845 - val_loss: 0.0470\n",
            "Epoch 10/15\n",
            "469/469 - 42s - 89ms/step - accuracy: 0.9870 - loss: 0.0439 - val_accuracy: 0.9855 - val_loss: 0.0481\n",
            "Epoch 11/15\n",
            "469/469 - 43s - 92ms/step - accuracy: 0.9873 - loss: 0.0411 - val_accuracy: 0.9837 - val_loss: 0.0450\n",
            "Epoch 12/15\n",
            "469/469 - 39s - 82ms/step - accuracy: 0.9888 - loss: 0.0375 - val_accuracy: 0.9869 - val_loss: 0.0432\n",
            "Epoch 13/15\n",
            "469/469 - 41s - 88ms/step - accuracy: 0.9904 - loss: 0.0332 - val_accuracy: 0.9869 - val_loss: 0.0427\n",
            "Epoch 14/15\n",
            "469/469 - 43s - 92ms/step - accuracy: 0.9906 - loss: 0.0311 - val_accuracy: 0.9852 - val_loss: 0.0457\n",
            "Epoch 15/15\n",
            "469/469 - 40s - 84ms/step - accuracy: 0.9915 - loss: 0.0291 - val_accuracy: 0.9874 - val_loss: 0.0363\n",
            "정확률= 98.73999953269958\n"
          ]
        }
      ],
      "source": [
        "# 최초의 cnn 당시엔 relu가 없었기 때문에 sigmoid 사용하고, 에포크는 좀 줄여라 80퍼 이상은 나올것이다\n",
        "import numpy as np\n",
        "import tensorflow as tf\n",
        "import tensorflow.keras.datasets as ds\n",
        "\n",
        "from tensorflow.keras.models import Sequential\n",
        "from tensorflow.keras.layers import Conv2D, MaxPooling2D, Flatten, Dense, Dropout\n",
        "from tensorflow.keras.optimizers import Adam\n",
        "\n",
        "# 데이터 준비\n",
        "(x_train, y_train), (x_test, y_test) = ds.mnist.load_data()\n",
        "x_train=x_train.reshape(60000,28,28,1) # 2차원 구조로 변환 / 데이터 수\n",
        "x_test=x_test.reshape(10000,28,28,1)\n",
        "x_train=x_train.astype(np.float32)/255.0\n",
        "x_test=x_test.astype(np.float32)/255.0\n",
        "y_train=tf.keras.utils.to_categorical(y_train,10)\n",
        "y_test=tf.keras.utils.to_categorical(y_test,10)\n",
        "\n",
        "cnn=Sequential() # 순차구조 사용\n",
        "cnn.add(Conv2D(6,(5,5),padding='same',activation='sigmoid',input_shape=(28,28,1)))# @ 5*5커널 6개 사용\n",
        "cnn.add(MaxPooling2D(pool_size=(2,2),strides=2))\n",
        "cnn.add(Conv2D(16,(5,5),padding='valid',activation='sigmoid'))\n",
        "cnn.add(MaxPooling2D(pool_size=(2,2),strides=2))\n",
        "cnn.add(Conv2D(120,(5,5),padding='valid',activation='sigmoid'))\n",
        "cnn.add(Flatten()) # 1차원 구조로 변환\n",
        "cnn.add(Dense(units=84,activation='sigmoid'))\n",
        "cnn.add(Dense(units=10,activation='softmax')) # 여기까지 신경망 구조 설계\n",
        "\n",
        "cnn.compile(loss='categorical_crossentropy',optimizer=Adam(learning_rate=0.001),metrics=['accuracy']) # 학습\n",
        "cnn.fit(x_train,y_train,batch_size=128,epochs=15,validation_data=(x_test,y_test),verbose=2)\n",
        "\n",
        "res=cnn.evaluate(x_test,y_test,verbose=0) # 예측\n",
        "print('정확률=',res[1]*100)"
      ]
    },
    {
      "cell_type": "code",
      "execution_count": null,
      "metadata": {
        "colab": {
          "base_uri": "https://localhost:8080/",
          "height": 501
        },
        "id": "4eR5_YoH2u05",
        "outputId": "d500c098-f019-4508-f016-a908339f893e"
      },
      "outputs": [
        {
          "name": "stderr",
          "output_type": "stream",
          "text": [
            "/usr/local/lib/python3.11/dist-packages/keras/src/layers/convolutional/base_conv.py:107: UserWarning: Do not pass an `input_shape`/`input_dim` argument to a layer. When using Sequential models, prefer using an `Input(shape)` object as the first layer in the model instead.\n",
            "  super().__init__(activity_regularizer=activity_regularizer, **kwargs)\n"
          ]
        },
        {
          "name": "stdout",
          "output_type": "stream",
          "text": [
            "Epoch 1/15\n"
          ]
        },
        {
          "ename": "ValueError",
          "evalue": "Arguments `target` and `output` must have the same shape. Received: target.shape=(None, 10), output.shape=(None, 1000)",
          "output_type": "error",
          "traceback": [
            "\u001b[0;31m---------------------------------------------------------------------------\u001b[0m",
            "\u001b[0;31mValueError\u001b[0m                                Traceback (most recent call last)",
            "\u001b[0;32m<ipython-input-1-b1401bd6f157>\u001b[0m in \u001b[0;36m<cell line: 0>\u001b[0;34m()\u001b[0m\n\u001b[1;32m     44\u001b[0m \u001b[0;34m\u001b[0m\u001b[0m\n\u001b[1;32m     45\u001b[0m \u001b[0;31m# 모델 학습\u001b[0m\u001b[0;34m\u001b[0m\u001b[0;34m\u001b[0m\u001b[0m\n\u001b[0;32m---> 46\u001b[0;31m history = model.fit(x_train, y_train, batch_size=128, epochs=15, validation_data=(x_test, y_test), \n\u001b[0m\u001b[1;32m     47\u001b[0m                     callbacks=[checkpoint, early_stopping], verbose=2)\n\u001b[1;32m     48\u001b[0m \u001b[0;34m\u001b[0m\u001b[0m\n",
            "\u001b[0;32m/usr/local/lib/python3.11/dist-packages/keras/src/utils/traceback_utils.py\u001b[0m in \u001b[0;36merror_handler\u001b[0;34m(*args, **kwargs)\u001b[0m\n\u001b[1;32m    120\u001b[0m             \u001b[0;31m# To get the full stack trace, call:\u001b[0m\u001b[0;34m\u001b[0m\u001b[0;34m\u001b[0m\u001b[0m\n\u001b[1;32m    121\u001b[0m             \u001b[0;31m# `keras.config.disable_traceback_filtering()`\u001b[0m\u001b[0;34m\u001b[0m\u001b[0;34m\u001b[0m\u001b[0m\n\u001b[0;32m--> 122\u001b[0;31m             \u001b[0;32mraise\u001b[0m \u001b[0me\u001b[0m\u001b[0;34m.\u001b[0m\u001b[0mwith_traceback\u001b[0m\u001b[0;34m(\u001b[0m\u001b[0mfiltered_tb\u001b[0m\u001b[0;34m)\u001b[0m \u001b[0;32mfrom\u001b[0m \u001b[0;32mNone\u001b[0m\u001b[0;34m\u001b[0m\u001b[0;34m\u001b[0m\u001b[0m\n\u001b[0m\u001b[1;32m    123\u001b[0m         \u001b[0;32mfinally\u001b[0m\u001b[0;34m:\u001b[0m\u001b[0;34m\u001b[0m\u001b[0;34m\u001b[0m\u001b[0m\n\u001b[1;32m    124\u001b[0m             \u001b[0;32mdel\u001b[0m \u001b[0mfiltered_tb\u001b[0m\u001b[0;34m\u001b[0m\u001b[0;34m\u001b[0m\u001b[0m\n",
            "\u001b[0;32m/usr/local/lib/python3.11/dist-packages/keras/src/backend/tensorflow/nn.py\u001b[0m in \u001b[0;36mcategorical_crossentropy\u001b[0;34m(target, output, from_logits, axis)\u001b[0m\n\u001b[1;32m    658\u001b[0m     \u001b[0;32mfor\u001b[0m \u001b[0me1\u001b[0m\u001b[0;34m,\u001b[0m \u001b[0me2\u001b[0m \u001b[0;32min\u001b[0m \u001b[0mzip\u001b[0m\u001b[0;34m(\u001b[0m\u001b[0mtarget\u001b[0m\u001b[0;34m.\u001b[0m\u001b[0mshape\u001b[0m\u001b[0;34m,\u001b[0m \u001b[0moutput\u001b[0m\u001b[0;34m.\u001b[0m\u001b[0mshape\u001b[0m\u001b[0;34m)\u001b[0m\u001b[0;34m:\u001b[0m\u001b[0;34m\u001b[0m\u001b[0;34m\u001b[0m\u001b[0m\n\u001b[1;32m    659\u001b[0m         \u001b[0;32mif\u001b[0m \u001b[0me1\u001b[0m \u001b[0;32mis\u001b[0m \u001b[0;32mnot\u001b[0m \u001b[0;32mNone\u001b[0m \u001b[0;32mand\u001b[0m \u001b[0me2\u001b[0m \u001b[0;32mis\u001b[0m \u001b[0;32mnot\u001b[0m \u001b[0;32mNone\u001b[0m \u001b[0;32mand\u001b[0m \u001b[0me1\u001b[0m \u001b[0;34m!=\u001b[0m \u001b[0me2\u001b[0m\u001b[0;34m:\u001b[0m\u001b[0;34m\u001b[0m\u001b[0;34m\u001b[0m\u001b[0m\n\u001b[0;32m--> 660\u001b[0;31m             raise ValueError(\n\u001b[0m\u001b[1;32m    661\u001b[0m                 \u001b[0;34m\"Arguments `target` and `output` must have the same shape. \"\u001b[0m\u001b[0;34m\u001b[0m\u001b[0;34m\u001b[0m\u001b[0m\n\u001b[1;32m    662\u001b[0m                 \u001b[0;34m\"Received: \"\u001b[0m\u001b[0;34m\u001b[0m\u001b[0;34m\u001b[0m\u001b[0m\n",
            "\u001b[0;31mValueError\u001b[0m: Arguments `target` and `output` must have the same shape. Received: target.shape=(None, 10), output.shape=(None, 1000)"
          ]
        }
      ],
      "source": [
        "import numpy as np\n",
        "import matplotlib.pyplot as plt\n",
        "import tensorflow as tf\n",
        "from tensorflow.keras.datasets import cifar10\n",
        "from tensorflow.keras.models import Sequential\n",
        "from tensorflow.keras.layers import Conv2D, MaxPooling2D, Flatten, Dense, Dropout\n",
        "from tensorflow.keras.optimizers import Adam\n",
        "from tensorflow.keras.callbacks import ModelCheckpoint, EarlyStopping\n",
        "\n",
        "# CIFAR-10 데이터 로드\n",
        "(x_train, y_train), (x_test, y_test) = cifar10.load_data()\n",
        "\n",
        "# 데이터 정규화 및 원-핫 인코딩\n",
        "x_train, x_test = x_train.astype(np.float32) / 255.0, x_test.astype(np.float32) / 255.0\n",
        "y_train = tf.keras.utils.to_categorical(y_train, 10)\n",
        "y_test = tf.keras.utils.to_categorical(y_test, 10)\n",
        "\n",
        "# 알렉스넷 모델 (CIFAR-10 맞춤)\n",
        "model = Sequential()\n",
        "model.add(Conv2D(24, (11,11), strides=1, padding='same', activation='sigmoid', input_shape=(32,32,3)))\n",
        "model.add(MaxPooling2D(pool_size=(2,2), strides=2))\n",
        "\n",
        "model.add(Conv2D(256, (5,5), padding='same', activation='sigmoid'))\n",
        "model.add(MaxPooling2D(pool_size=(2,2), strides=2))\n",
        "\n",
        "model.add(Conv2D(384, (3,3), padding='same', activation='sigmoid'))\n",
        "model.add(Conv2D(384, (3,3), padding='same', activation='sigmoid'))\n",
        "model.add(Conv2D(256, (3,3), padding='same', activation='sigmoid'))\n",
        "model.add(MaxPooling2D(pool_size=(2,2), strides=2))\n",
        "\n",
        "model.add(Flatten())\n",
        "model.add(Dense(4096, activation='sigmoid'))  # 4096 -> 1024로 축소\n",
        "model.add(Dropout(0.5))\n",
        "model.add(Dense(4096, activation='sigmoid'))\n",
        "model.add(Dropout(0.5))\n",
        "model.add(Dense(1000, activation='softmax'))  # CIFAR-10 클래스 수\n",
        "\n",
        "# 모델 컴파일\n",
        "model.compile(loss='categorical_crossentropy', optimizer=Adam(learning_rate=0.001), metrics=['accuracy'])\n",
        "\n",
        "# 체크포인트 저장 및 얼리 스토핑 설정\n",
        "checkpoint = ModelCheckpoint('alexnet_cifar10.h5', monitor='val_accuracy', save_best_only=True, mode='max')\n",
        "early_stopping = EarlyStopping(monitor='val_loss', patience=5, restore_best_weights=True)\n",
        "\n",
        "# 모델 학습\n",
        "history = model.fit(x_train, y_train, batch_size=128, epochs=15, validation_data=(x_test, y_test),\n",
        "                    callbacks=[checkpoint, early_stopping], verbose=2)\n",
        "\n",
        "# 모델 평가\n",
        "res = model.evaluate(x_test, y_test, verbose=0)\n",
        "print('테스트 정확률 =', res[1] * 100)\n",
        "\n",
        "# 학습 과정 시각화\n",
        "plt.plot(history.history['accuracy'], label='Train Accuracy')\n",
        "plt.plot(history.history['val_accuracy'], label='Validation Accuracy')\n",
        "plt.xlabel('Epochs')\n",
        "plt.ylabel('Accuracy')\n",
        "plt.legend()\n",
        "plt.show()"
      ]
    },
    {
      "cell_type": "code",
      "execution_count": null,
      "metadata": {
        "colab": {
          "background_save": true,
          "base_uri": "https://localhost:8080/"
        },
        "id": "E2ZK7ovsEDKF",
        "outputId": "17c5d1cf-1b93-43bb-e0ac-91ad3bde57f9"
      },
      "outputs": [
        {
          "name": "stdout",
          "output_type": "stream",
          "text": [
            "Epoch 1/15\n"
          ]
        }
      ],
      "source": [
        "# VGG 모델\n",
        "import numpy as np\n",
        "import matplotlib.pyplot as plt\n",
        "import tensorflow as tf\n",
        "from tensorflow.keras.datasets import cifar10\n",
        "from tensorflow.keras.models import Sequential\n",
        "from tensorflow.keras.layers import Conv2D, MaxPooling2D, Flatten, Dense, Dropout\n",
        "from tensorflow.keras.optimizers import Adam\n",
        "from tensorflow.keras.callbacks import ModelCheckpoint, EarlyStopping\n",
        "\n",
        "# CIFAR-10 데이터 로드\n",
        "(x_train, y_train), (x_test, y_test) = cifar10.load_data()\n",
        "\n",
        "# 데이터 정규화 및 원-핫 인코딩\n",
        "x_train, x_test = x_train.astype(np.float32) / 255.0, x_test.astype(np.float32) / 255.0\n",
        "y_train = tf.keras.utils.to_categorical(y_train, 10)\n",
        "y_test = tf.keras.utils.to_categorical(y_test, 10)\n",
        "\n",
        "# VGG 모델\n",
        "model = Sequential()\n",
        "model.add(Conv2D(64, (3,3), strides=1, padding='same', activation='sigmoid', input_shape=(32,32,3)))\n",
        "model.add(Conv2D(64, (3,3), strides=1, padding='same', activation='sigmoid', input_shape=(32,32,3)))\n",
        "model.add(MaxPooling2D(pool_size=(2,2), strides=2))\n",
        "\n",
        "model.add(Conv2D(128, (3,3), padding='same', activation='sigmoid'))\n",
        "model.add(Conv2D(128, (3,3), padding='same', activation='sigmoid'))\n",
        "model.add(MaxPooling2D(pool_size=(2,2), strides=2))\n",
        "\n",
        "model.add(Conv2D(256, (3,3), padding='same', activation='sigmoid'))\n",
        "model.add(Conv2D(256, (3,3), padding='same', activation='sigmoid'))\n",
        "model.add(Conv2D(256, (3,3), padding='same', activation='sigmoid'))\n",
        "model.add(Conv2D(256, (3,3), padding='same', activation='sigmoid'))\n",
        "model.add(MaxPooling2D(pool_size=(2,2), strides=2))\n",
        "\n",
        "model.add(Conv2D(512, (3,3), padding='same', activation='sigmoid'))\n",
        "model.add(Conv2D(512, (3,3), padding='same', activation='sigmoid'))\n",
        "model.add(Conv2D(512, (3,3), padding='same', activation='sigmoid'))\n",
        "model.add(Conv2D(512, (3,3), padding='same', activation='sigmoid'))\n",
        "model.add(MaxPooling2D(pool_size=(2,2), strides=2))\n",
        "\n",
        "model.add(Conv2D(512, (3,3), padding='same', activation='sigmoid'))\n",
        "model.add(Conv2D(512, (3,3), padding='same', activation='sigmoid'))\n",
        "model.add(Conv2D(512, (3,3), padding='same', activation='sigmoid'))\n",
        "model.add(Conv2D(512, (3,3), padding='same', activation='sigmoid'))\n",
        "model.add(MaxPooling2D(pool_size=(2,2), strides=2))\n",
        "\n",
        "model.add(Flatten())\n",
        "model.add(Dense(4096, activation='sigmoid'))  # 4096 -> 1024로 축소\n",
        "model.add(Dropout(0.5))\n",
        "model.add(Dense(4096, activation='sigmoid'))\n",
        "model.add(Dropout(0.5))\n",
        "model.add(Dense(10, activation='softmax'))  # CIFAR-10 클래스 수 최종 10개의 클래스로 구별하기 때문에 최종 노드가 10이어야한다.\n",
        "\n",
        "# 모델 컴파일\n",
        "model.compile(loss='categorical_crossentropy', optimizer=Adam(learning_rate=0.001), metrics=['accuracy'])\n",
        "\n",
        "# 체크포인트 저장 및 얼리 스토핑 설정\n",
        "checkpoint = ModelCheckpoint('vgg_cifar10.h5', monitor='val_accuracy', save_best_only=True, mode='max')\n",
        "early_stopping = EarlyStopping(monitor='val_loss', patience=5, restore_best_weights=True)\n",
        "\n",
        "# 모델 학습\n",
        "history = model.fit(x_train, y_train, batch_size=128, epochs=15, validation_data=(x_test, y_test),\n",
        "                    callbacks=[checkpoint, early_stopping], verbose=2)\n",
        "\n",
        "# 모델 평가\n",
        "res = model.evaluate(x_test, y_test, verbose=0)\n",
        "print('테스트 정확률 =', res[1] * 100)\n",
        "\n",
        "# 학습 과정 시각화\n",
        "plt.plot(history.history['accuracy'], label='Train Accuracy')\n",
        "plt.plot(history.history['val_accuracy'], label='Validation Accuracy')\n",
        "plt.xlabel('Epochs')\n",
        "plt.ylabel('Accuracy')\n",
        "plt.legend()\n",
        "plt.show()"
      ]
    },
    {
      "cell_type": "code",
      "execution_count": null,
      "metadata": {
        "id": "qkXP8orEKO2S"
      },
      "outputs": [],
      "source": [
        "# resnet의 핵심은 잔차함수! 미분을 계속해서 정전파를 이어가다보면 \"기울기 소실\"\n",
        "# 문제가 발생하는데 ex0.005 -> 0 이런식으로 이를 해겷하기 위해 resnet이 사용되었다\n",
        "# from tesorflow.keras.applications import ResNet50 // applications 안에 인셉션, 시퀸스, resnet 다 있다\n",
        "# 구글넷을 직접 작성해보기.... 줴엔장...\n"
      ]
    }
  ],
  "metadata": {
    "colab": {
      "provenance": []
    },
    "kernelspec": {
      "display_name": "Python 3",
      "name": "python3"
    },
    "language_info": {
      "name": "python"
    }
  },
  "nbformat": 4,
  "nbformat_minor": 0
}